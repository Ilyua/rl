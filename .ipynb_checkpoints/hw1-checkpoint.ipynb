{
 "cells": [
  {
   "cell_type": "code",
   "execution_count": 1,
   "id": "f08bda08",
   "metadata": {},
   "outputs": [
    {
     "data": {
      "application/javascript": [
       "IPython.notebook.set_autosave_interval(60000)"
      ]
     },
     "metadata": {},
     "output_type": "display_data"
    },
    {
     "name": "stdout",
     "output_type": "stream",
     "text": [
      "Autosaving every 60 seconds\n"
     ]
    }
   ],
   "source": [
    "%autosave 60"
   ]
  },
  {
   "cell_type": "code",
   "execution_count": 2,
   "id": "055ade21",
   "metadata": {},
   "outputs": [],
   "source": [
    "import gym\n",
    "import numpy as np"
   ]
  },
  {
   "cell_type": "markdown",
   "id": "cb5a733a",
   "metadata": {},
   "source": [
    "# Part 1. With blackjack ans strategies"
   ]
  },
  {
   "cell_type": "code",
   "execution_count": 3,
   "id": "7328d268",
   "metadata": {},
   "outputs": [
    {
     "data": {
      "text/plain": [
       "(15, 10, True)"
      ]
     },
     "execution_count": 3,
     "metadata": {},
     "output_type": "execute_result"
    }
   ],
   "source": [
    "env = gym.make('Blackjack-v1')\n",
    "env.reset()"
   ]
  },
  {
   "cell_type": "code",
   "execution_count": 4,
   "id": "1ee47ce3",
   "metadata": {},
   "outputs": [
    {
     "data": {
      "text/plain": [
       "((18, 10, True), 0.0, False, {})"
      ]
     },
     "execution_count": 4,
     "metadata": {},
     "output_type": "execute_result"
    }
   ],
   "source": [
    "env.step(1)"
   ]
  },
  {
   "cell_type": "code",
   "execution_count": 5,
   "id": "355f3014",
   "metadata": {},
   "outputs": [],
   "source": [
    "class Strategy():\n",
    "    def __init__(self):\n",
    "        self.actions={\n",
    "            'hit':1,\n",
    "            'stand':0\n",
    "            }\n",
    "    def action(self,s):\n",
    "        sum_,show_card,ace=s\n",
    "        if sum_==19 or sum_==20 or sum_==21:\n",
    "            return self.actions['stand']\n",
    "        else:\n",
    "            return self.actions['hit']\n",
    "            "
   ]
  },
  {
   "cell_type": "code",
   "execution_count": 6,
   "id": "0539b13a",
   "metadata": {},
   "outputs": [],
   "source": [
    "def get_trajectory(strategy,env):\n",
    "    obs = env.reset()\n",
    "    terminate=False\n",
    "    trajectory={'rewards':[],'sums':[],'actions':[],'show_card':[]}\n",
    "    while not terminate:\n",
    "        action=strategy.action(obs)\n",
    "        obs,reward,terminate,_=env.step(action)\n",
    "        trajectory['rewards'].append(reward)\n",
    "        trajectory['sums'].append(obs[0])\n",
    "        trajectory['actions'].append(action)\n",
    "        trajectory['show_card'].append(obs[1])\n",
    "        \n",
    "    return trajectory\n",
    "    \n",
    "    "
   ]
  },
  {
   "cell_type": "code",
   "execution_count": 7,
   "id": "67944cae",
   "metadata": {},
   "outputs": [],
   "source": [
    "strategy=Strategy()"
   ]
  },
  {
   "cell_type": "code",
   "execution_count": 49,
   "id": "7dbde95d",
   "metadata": {},
   "outputs": [
    {
     "data": {
      "text/plain": [
       "{'rewards': [-1.0], 'sums': [22], 'actions': [1], 'show_card': [2]}"
      ]
     },
     "execution_count": 49,
     "metadata": {},
     "output_type": "execute_result"
    }
   ],
   "source": [
    "get_trajectory(strategy,env)"
   ]
  },
  {
   "cell_type": "markdown",
   "id": "bc43b6b2",
   "metadata": {},
   "source": [
    "# Оценим выигрыш исходной стратегии"
   ]
  },
  {
   "cell_type": "code",
   "execution_count": 9,
   "id": "8eb83573",
   "metadata": {},
   "outputs": [],
   "source": [
    "episodes=10_000"
   ]
  },
  {
   "cell_type": "code",
   "execution_count": 10,
   "id": "2af45193",
   "metadata": {},
   "outputs": [
    {
     "data": {
      "text/plain": [
       "-0.11331202192031053"
      ]
     },
     "execution_count": 10,
     "metadata": {},
     "output_type": "execute_result"
    }
   ],
   "source": [
    "r=[]\n",
    "for i in range(episodes):\n",
    "    r.extend(get_trajectory(strategy,env)['rewards'])\n",
    "mean_reward=np.mean(r)\n",
    "mean_reward"
   ]
  },
  {
   "cell_type": "markdown",
   "id": "98819257",
   "metadata": {},
   "source": [
    "# Q-learning"
   ]
  },
  {
   "cell_type": "code",
   "execution_count": 11,
   "id": "a91543b8",
   "metadata": {},
   "outputs": [],
   "source": [
    "def get_action(Q, s, eps=0.1):\n",
    "    \n",
    "    if np.random.uniform() > eps:\n",
    "        return np.argmax(Q[s])\n",
    "    else:\n",
    "        return np.random.choice([0,1])\n",
    "    \n",
    "            "
   ]
  },
  {
   "cell_type": "code",
   "execution_count": 100,
   "id": "d3d7917e",
   "metadata": {},
   "outputs": [],
   "source": [
    "def q_learning_go_brr(env,alpha=0.01,gamma=0.001):\n",
    "    # initialize Q\n",
    "    Q=np.random.uniform(size=(32,11,2,2))\n",
    "    Q_=0\n",
    "    \n",
    "    counter=1\n",
    "    while np.sum((Q-Q_)**2) > 1e-20:\n",
    "        Q_=Q.copy()\n",
    "        \n",
    "        print(f'{counter} sum:{np.sum((Q-Q_)**2)}\\r',end='')\n",
    "        counter+=1\n",
    "        if counter >100_000:\n",
    "            return Q\n",
    "        \n",
    "        s = tuple(int(x) for x in env.reset())\n",
    "        \n",
    "        terminate = False\n",
    "        \n",
    "        while not terminate:\n",
    "            action=get_action(Q, s)\n",
    "            s,reward,terminate,_=env.step(action)\n",
    "            s = tuple(int(x) for x in s)\n",
    "            \n",
    "            Q[s][action] = Q[s][action]+alpha*(reward+gamma*np.argmax(Q[s]) - Q[s][action])\n",
    "        \n",
    "    return Q\n",
    "        \n",
    "        \n",
    "    \n",
    "    "
   ]
  },
  {
   "cell_type": "markdown",
   "id": "df8515f9",
   "metadata": {},
   "source": [
    "# Оценим ревард"
   ]
  },
  {
   "cell_type": "code",
   "execution_count": 101,
   "id": "7ac6733c",
   "metadata": {},
   "outputs": [
    {
     "name": "stdout",
     "output_type": "stream",
     "text": [
      "65758 sum:0.0\r"
     ]
    }
   ],
   "source": [
    "Q=q_learning_go_brr(env)"
   ]
  },
  {
   "cell_type": "code",
   "execution_count": 102,
   "id": "034a74d3",
   "metadata": {},
   "outputs": [],
   "source": [
    "def get_trajectory_reward(Q,env):\n",
    "    \n",
    "    rewards=[]\n",
    "    s = tuple(int(x) for x in env.reset())\n",
    "    terminate = False\n",
    "\n",
    "    while not terminate:\n",
    "        action=get_action(Q, s)\n",
    "        s,reward,terminate,_=env.step(action)\n",
    "        s = tuple(int(x) for x in s)\n",
    "        rewards.append(reward)\n",
    "    return rewards[-1]"
   ]
  },
  {
   "cell_type": "code",
   "execution_count": 103,
   "id": "d97acbaf",
   "metadata": {},
   "outputs": [
    {
     "data": {
      "text/plain": [
       "-0.21244"
      ]
     },
     "execution_count": 103,
     "metadata": {},
     "output_type": "execute_result"
    }
   ],
   "source": [
    "np.mean([get_trajectory_reward(Q,env) for _ in range(100000)])"
   ]
  },
  {
   "cell_type": "code",
   "execution_count": null,
   "id": "d2fac374",
   "metadata": {},
   "outputs": [],
   "source": []
  },
  {
   "cell_type": "code",
   "execution_count": null,
   "id": "63f80343",
   "metadata": {},
   "outputs": [],
   "source": []
  },
  {
   "cell_type": "code",
   "execution_count": null,
   "id": "00eddd32",
   "metadata": {},
   "outputs": [],
   "source": []
  },
  {
   "cell_type": "code",
   "execution_count": null,
   "id": "f48dceac",
   "metadata": {},
   "outputs": [],
   "source": []
  },
  {
   "cell_type": "code",
   "execution_count": null,
   "id": "21419724",
   "metadata": {},
   "outputs": [],
   "source": []
  },
  {
   "cell_type": "code",
   "execution_count": null,
   "id": "f7ade5a0",
   "metadata": {},
   "outputs": [],
   "source": []
  },
  {
   "cell_type": "code",
   "execution_count": null,
   "id": "f09a5dce",
   "metadata": {},
   "outputs": [],
   "source": []
  }
 ],
 "metadata": {
  "kernelspec": {
   "display_name": "Python 3",
   "language": "python",
   "name": "python3"
  },
  "language_info": {
   "codemirror_mode": {
    "name": "ipython",
    "version": 3
   },
   "file_extension": ".py",
   "mimetype": "text/x-python",
   "name": "python",
   "nbconvert_exporter": "python",
   "pygments_lexer": "ipython3",
   "version": "3.8.8"
  }
 },
 "nbformat": 4,
 "nbformat_minor": 5
}
